{
  "nbformat": 4,
  "nbformat_minor": 0,
  "metadata": {
    "colab": {
      "name": "Credit Card Fraud with Pipeline.ipynb",
      "provenance": [],
      "collapsed_sections": [],
      "authorship_tag": "ABX9TyOeJf3KsbSqRYCOW/v4n5hM",
      "include_colab_link": true
    },
    "kernelspec": {
      "name": "python3",
      "display_name": "Python 3"
    }
  },
  "cells": [
    {
      "cell_type": "markdown",
      "metadata": {
        "id": "view-in-github",
        "colab_type": "text"
      },
      "source": [
        "<a href=\"https://colab.research.google.com/github/mopu3263/Credit-Card-Fraud-Detection/blob/main/Credit_Card_Fraud_with_Pipeline.ipynb\" target=\"_parent\"><img src=\"https://colab.research.google.com/assets/colab-badge.svg\" alt=\"Open In Colab\"/></a>"
      ]
    },
    {
      "cell_type": "markdown",
      "metadata": {
        "id": "LqsfeAJ7FAbP"
      },
      "source": [
        "# **I used google colab platform to execute the project**"
      ]
    },
    {
      "cell_type": "code",
      "metadata": {
        "id": "J6D_w6ZdfTlB"
      },
      "source": [
        "import numpy as np\r\n",
        "import pandas as pd\r\n",
        "import matplotlib.pyplot as plt"
      ],
      "execution_count": 1,
      "outputs": []
    },
    {
      "cell_type": "markdown",
      "metadata": {
        "id": "WN8Yq20KoUCl"
      },
      "source": [
        "I saved the csv file in my google drive. Importing csv file from google drive to colab is described here:\r\n",
        " https://towardsdatascience.com/3-ways-to-load-csv-files-into-colab-7c14fcbdcb92"
      ]
    },
    {
      "cell_type": "code",
      "metadata": {
        "id": "Os9jAdfhfXm3",
        "colab": {
          "base_uri": "https://localhost:8080/"
        },
        "outputId": "f6c5bb7f-f148-4e62-808f-a68008f693c0"
      },
      "source": [
        "from google.colab import drive\r\n",
        "drive.mount('/content/drive')"
      ],
      "execution_count": 2,
      "outputs": [
        {
          "output_type": "stream",
          "text": [
            "Mounted at /content/drive\n"
          ],
          "name": "stdout"
        }
      ]
    },
    {
      "cell_type": "code",
      "metadata": {
        "id": "C0YAb6JFrXoH"
      },
      "source": [
        "path = '/content/drive/MyDrive/Machine Learning with Colab/creditcard.csv'\r\n",
        "df = pd.read_csv(path)"
      ],
      "execution_count": 3,
      "outputs": []
    },
    {
      "cell_type": "code",
      "metadata": {
        "id": "nEzfXIrKlvix"
      },
      "source": [
        "df.shape\r\n",
        "df.info()\r\n",
        "df.head()\r\n",
        "df.describe()\r\n",
        "fnf=df[\"Class\"].value_counts()\r\n",
        "print(fnf)\r\n",
        "print(fnf/len(df))"
      ],
      "execution_count": null,
      "outputs": []
    },
    {
      "cell_type": "code",
      "metadata": {
        "id": "16s4po-flxwe",
        "colab": {
          "base_uri": "https://localhost:8080/",
          "height": 296
        },
        "outputId": "e8ab0534-8861-4cdb-bcfc-239c3c2bc840"
      },
      "source": [
        "#Data visualization\r\n",
        "import seaborn as sns\r\n",
        "\r\n",
        "fnf.plot(kind=\"bar\",xlabel=\"class\",ylabel=\"No of observations\",rot=0)"
      ],
      "execution_count": 5,
      "outputs": [
        {
          "output_type": "execute_result",
          "data": {
            "text/plain": [
              "<matplotlib.axes._subplots.AxesSubplot at 0x7f6614136208>"
            ]
          },
          "metadata": {
            "tags": []
          },
          "execution_count": 5
        },
        {
          "output_type": "display_data",
          "data": {
            "image/png": "[encoded data removed]",
            "text/plain": [
              "<Figure size 432x288 with 1 Axes>"
            ]
          },
          "metadata": {
            "tags": [],
            "needs_background": "light"
          }
        }
      ]
    },
    {
      "cell_type": "code",
      "metadata": {
        "id": "JpWM7H9hlzgR"
      },
      "source": [
        "#Seaborn polot\r\n",
        "f,ax=plt.subplots(1,2,figsize=(18,4))\r\n",
        "sns.distplot(df[\"Time\"].values/(60*60),ax=ax[0],color='r')\r\n",
        "ax[0].set_title('Distribution of Transaction Time',fontsize=16)\r\n",
        "ax[0].set_xlim([min(df[\"Time\"].values/(60*60)),max(df[\"Time\"].values/(60*60))])\r\n",
        "\r\n",
        "sns.distplot(df[\"Amount\"].values,ax=ax[1],color='b')\r\n",
        "ax[1].set_title('Distribution of Transaction Amount',fontsize=16)\r\n",
        "ax[1].set_xlim([min(df['Amount'].values), max(df['Amount'].values)])\r\n",
        "plt.show\r\n"
      ],
      "execution_count": null,
      "outputs": []
    },
    {
      "cell_type": "code",
      "metadata": {
        "id": "3reC61ORl1xv",
        "colab": {
          "base_uri": "https://localhost:8080/"
        },
        "outputId": "36eb80b0-1c2c-4b07-e36b-5b7e608ecfbc"
      },
      "source": [
        "#Separate the dataset to Fraud and non-fraud\r\n",
        "df_nonfraud=df[df.Class==0]\r\n",
        "df_fraud=df[df.Class==1]\r\n",
        "print(df_nonfraud)"
      ],
      "execution_count": 7,
      "outputs": [
        {
          "output_type": "stream",
          "text": [
            "            Time         V1         V2  ...       V28  Amount  Class\n",
            "0            0.0  -1.359807  -0.072781  ... -0.021053  149.62      0\n",
            "1            0.0   1.191857   0.266151  ...  0.014724    2.69      0\n",
            "2            1.0  -1.358354  -1.340163  ... -0.059752  378.66      0\n",
            "3            1.0  -0.966272  -0.185226  ...  0.061458  123.50      0\n",
            "4            2.0  -1.158233   0.877737  ...  0.215153   69.99      0\n",
            "...          ...        ...        ...  ...       ...     ...    ...\n",
            "284802  172786.0 -11.881118  10.071785  ...  0.823731    0.77      0\n",
            "284803  172787.0  -0.732789  -0.055080  ... -0.053527   24.79      0\n",
            "284804  172788.0   1.919565  -0.301254  ... -0.026561   67.88      0\n",
            "284805  172788.0  -0.240440   0.530483  ...  0.104533   10.00      0\n",
            "284806  172792.0  -0.533413  -0.189733  ...  0.013649  217.00      0\n",
            "\n",
            "[284315 rows x 31 columns]\n"
          ],
          "name": "stdout"
        }
      ]
    },
    {
      "cell_type": "code",
      "metadata": {
        "id": "y6PEToyPl3zX",
        "colab": {
          "base_uri": "https://localhost:8080/"
        },
        "outputId": "bcc2f82b-6bdf-466f-dc9f-600748b96ff7"
      },
      "source": [
        "# Summarize statistics and see differences between fraud and normal transactions\r\n",
        "print(df_nonfraud.Amount.describe())\r\n",
        "print('-'*30)\r\n",
        "print(df_fraud.Amount.describe())"
      ],
      "execution_count": 8,
      "outputs": [
        {
          "output_type": "stream",
          "text": [
            "count    284315.000000\n",
            "mean         88.291022\n",
            "std         250.105092\n",
            "min           0.000000\n",
            "25%           5.650000\n",
            "50%          22.000000\n",
            "75%          77.050000\n",
            "max       25691.160000\n",
            "Name: Amount, dtype: float64\n",
            "------------------------------\n",
            "count     492.000000\n",
            "mean      122.211321\n",
            "std       256.683288\n",
            "min         0.000000\n",
            "25%         1.000000\n",
            "50%         9.250000\n",
            "75%       105.890000\n",
            "max      2125.870000\n",
            "Name: Amount, dtype: float64\n"
          ],
          "name": "stdout"
        }
      ]
    },
    {
      "cell_type": "code",
      "metadata": {
        "id": "DJNR3km5l5oa",
        "colab": {
          "base_uri": "https://localhost:8080/"
        },
        "outputId": "d86ba76e-ca36-4ebf-9038-7d5431494357"
      },
      "source": [
        "# Import the module\r\n",
        "from scipy import stats\r\n",
        "F, p = stats.f_oneway(df['Amount'][df['Class'] == 0], df['Amount'][df['Class'] == 1])\r\n",
        "print(\"F:\", F)\r\n",
        "print(\"p:\",p)"
      ],
      "execution_count": 9,
      "outputs": [
        {
          "output_type": "stream",
          "text": [
            "F: 9.033344712018891\n",
            "p: 0.0026512206498171095\n"
          ],
          "name": "stdout"
        }
      ]
    },
    {
      "cell_type": "code",
      "metadata": {
        "id": "GZkxEOE4l8MF",
        "colab": {
          "base_uri": "https://localhost:8080/",
          "height": 295
        },
        "outputId": "be047c38-74ce-46e9-9b22-4728622ec1d4"
      },
      "source": [
        "# Plot of high value transactions($200-$2000)\r\n",
        "bins = np.linspace(200, 2000, 100)\r\n",
        "plt.hist(df_nonfraud.Amount, bins, alpha=1, density=True, label='Non-Fraud')\r\n",
        "plt.hist(df_fraud.Amount, bins, alpha=1, density=True, label='Fraud')\r\n",
        "plt.legend(loc='upper right')\r\n",
        "plt.title(\"Amount by percentage of transactions (transactions \\$200-$2000)\")\r\n",
        "plt.xlabel(\"Transaction amount (USD)\")\r\n",
        "plt.ylabel(\"Percentage of transactions (%)\")\r\n",
        "plt.show()"
      ],
      "execution_count": 10,
      "outputs": [
        {
          "output_type": "display_data",
          "data": {
            "image/png": "[encoded data removed]",
            "text/plain": [
              "<Figure size 432x288 with 1 Axes>"
            ]
          },
          "metadata": {
            "tags": [],
            "needs_background": "light"
          }
        }
      ]
    },
    {
      "cell_type": "code",
      "metadata": {
        "id": "wukn4wlTl92j",
        "colab": {
          "base_uri": "https://localhost:8080/",
          "height": 295
        },
        "outputId": "30fa3efc-4b0f-40ba-b613-082b0ea4c487"
      },
      "source": [
        "# Plot of high Trasaction time during the day\r\n",
        "bins = np.linspace(0, 48)\r\n",
        "plt.hist(df_nonfraud.Time/(60*60), bins, alpha=1, density=True, label='Non-Fraud')\r\n",
        "plt.hist(df_fraud.Time/(60*60), bins, alpha=1, density=True, label='Fraud')\r\n",
        "plt.legend(loc='upper right')\r\n",
        "plt.title(\"Percentage of transactions by hour\")\r\n",
        "plt.xlabel(\"Transaction time (h)\")\r\n",
        "plt.ylabel(\"Percentage of transactions (%)\")\r\n",
        "plt.show()"
      ],
      "execution_count": 11,
      "outputs": [
        {
          "output_type": "display_data",
          "data": {
            "image/png": "[encoded data removed]",
            "text/plain": [
              "<Figure size 432x288 with 1 Axes>"
            ]
          },
          "metadata": {
            "tags": [],
            "needs_background": "light"
          }
        }
      ]
    },
    {
      "cell_type": "code",
      "metadata": {
        "id": "vj2IWjsLl_zC",
        "colab": {
          "base_uri": "https://localhost:8080/",
          "height": 295
        },
        "outputId": "31fedbc6-4b35-4a57-d38c-e566a9bd2037"
      },
      "source": [
        "plt.scatter(df_nonfraud.Time/(60*60),df_nonfraud.Amount,label=\"Non-Fraud\")\r\n",
        "plt.scatter(df_fraud.Time/(60*60),df_fraud.Amount,label=\"Fraud\")\r\n",
        "plt.legend(loc='upper right')\r\n",
        "plt.title(\"Percentage of transactions by hour\")\r\n",
        "plt.xlabel(\"Transaction time (h)\")\r\n",
        "plt.ylabel(\"Percentage of transactions (%)\")\r\n",
        "plt.show()"
      ],
      "execution_count": 12,
      "outputs": [
        {
          "output_type": "display_data",
          "data": {
            "image/png": "[encoded data removed]",
            "text/plain": [
              "<Figure size 432x288 with 1 Axes>"
            ]
          },
          "metadata": {
            "tags": [],
            "needs_background": "light"
          }
        }
      ]
    },
    {
      "cell_type": "code",
      "metadata": {
        "id": "HB9zwPCPmz6A"
      },
      "source": [
        "# Scale \"Time\" and \"Amount\"\r\n",
        "from sklearn.preprocessing import StandardScaler, RobustScaler"
      ],
      "execution_count": 13,
      "outputs": []
    },
    {
      "cell_type": "markdown",
      "metadata": {
        "id": "ip7M2wYIm3rJ"
      },
      "source": [
        "# **Feature Scaling**\r\n",
        "As we know before, features V1-V28 have been transformed by PCA and scaled already. Whereas feature \"Time\" and \"Amount\" have not. And considering that we will analyze these two features with other V1-V28, they should better be scaled before we train our model using various algorithms. Here is why and how.\r\n",
        "Which scaling mehtod should we use?\r\n",
        "The Standard Scaler is not recommended as \"Time\" and \"Amount\" features are not normally distributed.\r\n",
        "The Min-Max Scaler is also not recommende as there are noticeable outliers in feature \"Amount\".\r\n",
        "The Robust Scaler are robust to outliers: (xi–Q1(x))/( Q3(x)–Q1(x)) (Q1 and Q3 represent 25% and 75% quartiles).\r\n",
        "So we choose Robust Scaler to scale these two features."
      ]
    },
    {
      "cell_type": "code",
      "metadata": {
        "id": "B-Gp8BKGm9Lk",
        "colab": {
          "base_uri": "https://localhost:8080/",
          "height": 224
        },
        "outputId": "a9ed51a7-c99b-46f7-bb87-60df36960838"
      },
      "source": [
        "# Scale \"Time\" and \"Amount\"\r\n",
        "from sklearn.preprocessing import StandardScaler, RobustScaler\r\n",
        "df['scaled_amount'] = RobustScaler().fit_transform(df['Amount'].values.reshape(-1,1))\r\n",
        "df['scaled_time'] = RobustScaler().fit_transform(df['Time'].values.reshape(-1,1))\r\n",
        "\r\n",
        "# Make a new dataset named \"df_scaled\" dropping out original \"Time\" and \"Amount\"\r\n",
        "df_scaled = df.drop(['Time','Amount'],axis = 1,inplace=False)\r\n",
        "df_scaled.head()\r\n",
        "#print(df_scaled.shape)"
      ],
      "execution_count": 14,
      "outputs": [
        {
          "output_type": "execute_result",
          "data": {
            "text/html": [
              "<div>\n",
              "<style scoped>\n",
              "    .dataframe tbody tr th:only-of-type {\n",
              "        vertical-align: middle;\n",
              "    }\n",
              "\n",
              "    .dataframe tbody tr th {\n",
              "        vertical-align: top;\n",
              "    }\n",
              "\n",
              "    .dataframe thead th {\n",
              "        text-align: right;\n",
              "    }\n",
              "</style>\n",
              "<table border=\"1\" class=\"dataframe\">\n",
              "  <thead>\n",
              "    <tr style=\"text-align: right;\">\n",
              "      <th></th>\n",
              "      <th>V1</th>\n",
              "      <th>V2</th>\n",
              "      <th>V3</th>\n",
              "      <th>V4</th>\n",
              "      <th>V5</th>\n",
              "      <th>V6</th>\n",
              "      <th>V7</th>\n",
              "      <th>V8</th>\n",
              "      <th>V9</th>\n",
              "      <th>V10</th>\n",
              "      <th>V11</th>\n",
              "      <th>V12</th>\n",
              "      <th>V13</th>\n",
              "      <th>V14</th>\n",
              "      <th>V15</th>\n",
              "      <th>V16</th>\n",
              "      <th>V17</th>\n",
              "      <th>V18</th>\n",
              "      <th>V19</th>\n",
              "      <th>V20</th>\n",
              "      <th>V21</th>\n",
              "      <th>V22</th>\n",
              "      <th>V23</th>\n",
              "      <th>V24</th>\n",
              "      <th>V25</th>\n",
              "      <th>V26</th>\n",
              "      <th>V27</th>\n",
              "      <th>V28</th>\n",
              "      <th>Class</th>\n",
              "      <th>scaled_amount</th>\n",
              "      <th>scaled_time</th>\n",
              "    </tr>\n",
              "  </thead>\n",
              "  <tbody>\n",
              "    <tr>\n",
              "      <th>0</th>\n",
              "      <td>-1.359807</td>\n",
              "      <td>-0.072781</td>\n",
              "      <td>2.536347</td>\n",
              "      <td>1.378155</td>\n",
              "      <td>-0.338321</td>\n",
              "      <td>0.462388</td>\n",
              "      <td>0.239599</td>\n",
              "      <td>0.098698</td>\n",
              "      <td>0.363787</td>\n",
              "      <td>0.090794</td>\n",
              "      <td>-0.551600</td>\n",
              "      <td>-0.617801</td>\n",
              "      <td>-0.991390</td>\n",
              "      <td>-0.311169</td>\n",
              "      <td>1.468177</td>\n",
              "      <td>-0.470401</td>\n",
              "      <td>0.207971</td>\n",
              "      <td>0.025791</td>\n",
              "      <td>0.403993</td>\n",
              "      <td>0.251412</td>\n",
              "      <td>-0.018307</td>\n",
              "      <td>0.277838</td>\n",
              "      <td>-0.110474</td>\n",
              "      <td>0.066928</td>\n",
              "      <td>0.128539</td>\n",
              "      <td>-0.189115</td>\n",
              "      <td>0.133558</td>\n",
              "      <td>-0.021053</td>\n",
              "      <td>0</td>\n",
              "      <td>1.783274</td>\n",
              "      <td>-0.994983</td>\n",
              "    </tr>\n",
              "    <tr>\n",
              "      <th>1</th>\n",
              "      <td>1.191857</td>\n",
              "      <td>0.266151</td>\n",
              "      <td>0.166480</td>\n",
              "      <td>0.448154</td>\n",
              "      <td>0.060018</td>\n",
              "      <td>-0.082361</td>\n",
              "      <td>-0.078803</td>\n",
              "      <td>0.085102</td>\n",
              "      <td>-0.255425</td>\n",
              "      <td>-0.166974</td>\n",
              "      <td>1.612727</td>\n",
              "      <td>1.065235</td>\n",
              "      <td>0.489095</td>\n",
              "      <td>-0.143772</td>\n",
              "      <td>0.635558</td>\n",
              "      <td>0.463917</td>\n",
              "      <td>-0.114805</td>\n",
              "      <td>-0.183361</td>\n",
              "      <td>-0.145783</td>\n",
              "      <td>-0.069083</td>\n",
              "      <td>-0.225775</td>\n",
              "      <td>-0.638672</td>\n",
              "      <td>0.101288</td>\n",
              "      <td>-0.339846</td>\n",
              "      <td>0.167170</td>\n",
              "      <td>0.125895</td>\n",
              "      <td>-0.008983</td>\n",
              "      <td>0.014724</td>\n",
              "      <td>0</td>\n",
              "      <td>-0.269825</td>\n",
              "      <td>-0.994983</td>\n",
              "    </tr>\n",
              "    <tr>\n",
              "      <th>2</th>\n",
              "      <td>-1.358354</td>\n",
              "      <td>-1.340163</td>\n",
              "      <td>1.773209</td>\n",
              "      <td>0.379780</td>\n",
              "      <td>-0.503198</td>\n",
              "      <td>1.800499</td>\n",
              "      <td>0.791461</td>\n",
              "      <td>0.247676</td>\n",
              "      <td>-1.514654</td>\n",
              "      <td>0.207643</td>\n",
              "      <td>0.624501</td>\n",
              "      <td>0.066084</td>\n",
              "      <td>0.717293</td>\n",
              "      <td>-0.165946</td>\n",
              "      <td>2.345865</td>\n",
              "      <td>-2.890083</td>\n",
              "      <td>1.109969</td>\n",
              "      <td>-0.121359</td>\n",
              "      <td>-2.261857</td>\n",
              "      <td>0.524980</td>\n",
              "      <td>0.247998</td>\n",
              "      <td>0.771679</td>\n",
              "      <td>0.909412</td>\n",
              "      <td>-0.689281</td>\n",
              "      <td>-0.327642</td>\n",
              "      <td>-0.139097</td>\n",
              "      <td>-0.055353</td>\n",
              "      <td>-0.059752</td>\n",
              "      <td>0</td>\n",
              "      <td>4.983721</td>\n",
              "      <td>-0.994972</td>\n",
              "    </tr>\n",
              "    <tr>\n",
              "      <th>3</th>\n",
              "      <td>-0.966272</td>\n",
              "      <td>-0.185226</td>\n",
              "      <td>1.792993</td>\n",
              "      <td>-0.863291</td>\n",
              "      <td>-0.010309</td>\n",
              "      <td>1.247203</td>\n",
              "      <td>0.237609</td>\n",
              "      <td>0.377436</td>\n",
              "      <td>-1.387024</td>\n",
              "      <td>-0.054952</td>\n",
              "      <td>-0.226487</td>\n",
              "      <td>0.178228</td>\n",
              "      <td>0.507757</td>\n",
              "      <td>-0.287924</td>\n",
              "      <td>-0.631418</td>\n",
              "      <td>-1.059647</td>\n",
              "      <td>-0.684093</td>\n",
              "      <td>1.965775</td>\n",
              "      <td>-1.232622</td>\n",
              "      <td>-0.208038</td>\n",
              "      <td>-0.108300</td>\n",
              "      <td>0.005274</td>\n",
              "      <td>-0.190321</td>\n",
              "      <td>-1.175575</td>\n",
              "      <td>0.647376</td>\n",
              "      <td>-0.221929</td>\n",
              "      <td>0.062723</td>\n",
              "      <td>0.061458</td>\n",
              "      <td>0</td>\n",
              "      <td>1.418291</td>\n",
              "      <td>-0.994972</td>\n",
              "    </tr>\n",
              "    <tr>\n",
              "      <th>4</th>\n",
              "      <td>-1.158233</td>\n",
              "      <td>0.877737</td>\n",
              "      <td>1.548718</td>\n",
              "      <td>0.403034</td>\n",
              "      <td>-0.407193</td>\n",
              "      <td>0.095921</td>\n",
              "      <td>0.592941</td>\n",
              "      <td>-0.270533</td>\n",
              "      <td>0.817739</td>\n",
              "      <td>0.753074</td>\n",
              "      <td>-0.822843</td>\n",
              "      <td>0.538196</td>\n",
              "      <td>1.345852</td>\n",
              "      <td>-1.119670</td>\n",
              "      <td>0.175121</td>\n",
              "      <td>-0.451449</td>\n",
              "      <td>-0.237033</td>\n",
              "      <td>-0.038195</td>\n",
              "      <td>0.803487</td>\n",
              "      <td>0.408542</td>\n",
              "      <td>-0.009431</td>\n",
              "      <td>0.798278</td>\n",
              "      <td>-0.137458</td>\n",
              "      <td>0.141267</td>\n",
              "      <td>-0.206010</td>\n",
              "      <td>0.502292</td>\n",
              "      <td>0.219422</td>\n",
              "      <td>0.215153</td>\n",
              "      <td>0</td>\n",
              "      <td>0.670579</td>\n",
              "      <td>-0.994960</td>\n",
              "    </tr>\n",
              "  </tbody>\n",
              "</table>\n",
              "</div>"
            ],
            "text/plain": [
              "         V1        V2        V3  ...  Class  scaled_amount  scaled_time\n",
              "0 -1.359807 -0.072781  2.536347  ...      0       1.783274    -0.994983\n",
              "1  1.191857  0.266151  0.166480  ...      0      -0.269825    -0.994983\n",
              "2 -1.358354 -1.340163  1.773209  ...      0       4.983721    -0.994972\n",
              "3 -0.966272 -0.185226  1.792993  ...      0       1.418291    -0.994972\n",
              "4 -1.158233  0.877737  1.548718  ...      0       0.670579    -0.994960\n",
              "\n",
              "[5 rows x 31 columns]"
            ]
          },
          "metadata": {
            "tags": []
          },
          "execution_count": 14
        }
      ]
    },
    {
      "cell_type": "code",
      "metadata": {
        "id": "yJnXd3FNnA7P",
        "colab": {
          "base_uri": "https://localhost:8080/",
          "height": 678
        },
        "outputId": "3e9010d0-dc23-42bf-a44e-8f4468036c7f"
      },
      "source": [
        "# Calculate pearson correlation coefficience\r\n",
        "corr = df_scaled.corr() \r\n",
        "f, ax = plt.subplots(1, 1, figsize=(12,10))\r\n",
        "sns.heatmap(corr, cmap='coolwarm_r', annot_kws={'size':20})"
      ],
      "execution_count": 15,
      "outputs": [
        {
          "output_type": "execute_result",
          "data": {
            "text/plain": [
              "<matplotlib.axes._subplots.AxesSubplot at 0x7f6623d4a278>"
            ]
          },
          "metadata": {
            "tags": []
          },
          "execution_count": 15
        },
        {
          "output_type": "display_data",
          "data": {
            "image/png": "[encoded data removed]",
            "text/plain": [
              "<Figure size 864x720 with 2 Axes>"
            ]
          },
          "metadata": {
            "tags": [],
            "needs_background": "light"
          }
        }
      ]
    },
    {
      "cell_type": "markdown",
      "metadata": {
        "id": "uMZ_acVVnDKr"
      },
      "source": [
        "# **Features Extraction**"
      ]
    },
    {
      "cell_type": "code",
      "metadata": {
        "id": "gwSyrFxBnEvH"
      },
      "source": [
        "X = df_scaled.drop(['Class'],axis=1, inplace=False)\r\n",
        "X =  np.array(X, dtype=\"float32\")\r\n",
        "y=df_scaled[['Class']]\r\n",
        "y=np.array(y, dtype=\"uint8\")\r\n",
        "print(X)\r\n",
        "print(y)\r\n",
        "print(X.shape)\r\n",
        "print(y.shape)\r\n"
      ],
      "execution_count": null,
      "outputs": []
    },
    {
      "cell_type": "markdown",
      "metadata": {
        "id": "JdoeMl7FpZIF"
      },
      "source": [
        "# **Model Selection with Pipeline**\r\n",
        "we will only use logistic regression, DecisionTree and RandomForest for our models to compare.\r\n",
        "you can find the details how to use pipeline for workflow here:\r\n",
        "https://medium.com/vickdata/a-simple-guide-to-scikit-learn-pipelines-4ac0d974bdcf"
      ]
    },
    {
      "cell_type": "code",
      "metadata": {
        "id": "lqZDhPCQpUpX"
      },
      "source": [
        "from sklearn.pipeline import Pipeline\r\n",
        "from imblearn.pipeline import Pipeline \r\n",
        "from sklearn.model_selection import train_test_split\r\n",
        "from imblearn.over_sampling import BorderlineSMOTE\r\n",
        "from sklearn.linear_model import LogisticRegression\r\n",
        "from sklearn.tree import DecisionTreeClassifier\r\n",
        "from sklearn.ensemble import RandomForestClassifier\r\n",
        "from sklearn.metrics import roc_curve,roc_auc_score, precision_recall_curve, average_precision_score\r\n",
        "from sklearn.metrics import classification_report\r\n",
        "from sklearn.metrics import confusion_matrix\r\n",
        "\r\n",
        "# import warnings filter\r\n",
        "from warnings import simplefilter\r\n",
        "# ignore all future warnings\r\n",
        "simplefilter(action='ignore', category=FutureWarning)\r\n"
      ],
      "execution_count": null,
      "outputs": []
    },
    {
      "cell_type": "code",
      "metadata": {
        "id": "XBpzu_V3rNgn"
      },
      "source": [
        "# Create the training and testing sets\r\n",
        "X_train, X_test, y_train, y_test = train_test_split(X, y, test_size=.3, random_state=0)\r\n",
        "# Define which resampling method and which ML model to use in the pipeline\r\n",
        "resampling = BorderlineSMOTE(kind='borderline-2',random_state=0) # instead SMOTE(kind='borderline2') \r\n",
        "classifiers = [\r\n",
        "    LogisticRegression(max_iter=2000),\r\n",
        "    DecisionTreeClassifier(),\r\n",
        "    RandomForestClassifier(),\r\n",
        "    ]"
      ],
      "execution_count": 18,
      "outputs": []
    },
    {
      "cell_type": "code",
      "metadata": {
        "colab": {
          "base_uri": "https://localhost:8080/",
          "height": 1000
        },
        "id": "GfJpz4nqtXrt",
        "outputId": "f8e724f5-3b3e-4745-8296-e9c6e27b19d9"
      },
      "source": [
        "for classifier in classifiers:\r\n",
        "    pipe = Pipeline(steps=[('SMOTE', resampling),('classifier', classifier)])\r\n",
        "    pipe.fit(X_train, y_train)   \r\n",
        "    print(classifier)\r\n",
        "    # Obtain model predictions\r\n",
        "    y_predicted = classifier.predict(X_test)\r\n",
        "    # Print the classifcation report and confusion matrix\r\n",
        "    print('Classification report:\\n', classification_report(y_test, y_predicted))\r\n",
        "    print('-'*30)\r\n",
        "    print('Confusion matrix:\\n',confusion_matrix(y_true = y_test, y_pred = y_predicted))  \r\n",
        "    # Create true and false positive rates\r\n",
        "    false_positive_rate, true_positive_rate, threshold = roc_curve(y_test, y_predicted)\r\n",
        "\r\n",
        "    # Calculate Area Under the Receiver Operating Characteristic Curve \r\n",
        "    probs = classifier.predict_proba(X_test)\r\n",
        "    roc_auc = roc_auc_score(y_test, probs[:, 1])\r\n",
        "    print('ROC AUC Score:',roc_auc)\r\n",
        "    print('-'*30)\r\n",
        "    # Obtain precision and recall \r\n",
        "    precision, recall, thresholds = precision_recall_curve(y_test, y_predicted)\r\n",
        "\r\n",
        "    # Calculate average precision \r\n",
        "    average_precision = average_precision_score(y_test, y_predicted)\r\n",
        "    #ROC curve plot \r\n",
        "    plt.plot(false_positive_rate, true_positive_rate, linewidth=3, label='AUC = %0.3f'% roc_auc)\r\n",
        "    plt.plot([0,1],[0,1],linewidth=3)\r\n",
        "    plt.xlim([-0.01, 1])\r\n",
        "    plt.ylim([0, 1.01])\r\n",
        "    plt.legend(loc='upper right')\r\n",
        "    plt.title('Receiver operating characteristic curve (ROC)')\r\n",
        "    plt.ylabel('True Positive Rate')\r\n",
        "    plt.xlabel('False Positive Rate')\r\n",
        "    plt.show()"
      ],
      "execution_count": 19,
      "outputs": [
        {
          "output_type": "stream",
          "text": [
            "/usr/local/lib/python3.6/dist-packages/sklearn/utils/validation.py:760: DataConversionWarning: A column-vector y was passed when a 1d array was expected. Please change the shape of y to (n_samples, ), for example using ravel().\n",
            "  y = column_or_1d(y, warn=True)\n"
          ],
          "name": "stderr"
        },
        {
          "output_type": "stream",
          "text": [
            "LogisticRegression(C=1.0, class_weight=None, dual=False, fit_intercept=True,\n",
            "                   intercept_scaling=1, l1_ratio=None, max_iter=2000,\n",
            "                   multi_class='auto', n_jobs=None, penalty='l2',\n",
            "                   random_state=None, solver='lbfgs', tol=0.0001, verbose=0,\n",
            "                   warm_start=False)\n",
            "Classification report:\n",
            "               precision    recall  f1-score   support\n",
            "\n",
            "           0       1.00      0.98      0.99     85296\n",
            "           1       0.08      0.88      0.15       147\n",
            "\n",
            "    accuracy                           0.98     85443\n",
            "   macro avg       0.54      0.93      0.57     85443\n",
            "weighted avg       1.00      0.98      0.99     85443\n",
            "\n",
            "------------------------------\n",
            "Confusion matrix:\n",
            " [[83795  1501]\n",
            " [   18   129]]\n",
            "ROC AUC Score: 0.9581940026057318\n",
            "------------------------------\n"
          ],
          "name": "stdout"
        },
        {
          "output_type": "display_data",
          "data": {
            "image/png": "[encoded data removed]",
            "text/plain": [
              "<Figure size 432x288 with 1 Axes>"
            ]
          },
          "metadata": {
            "tags": [],
            "needs_background": "light"
          }
        },
        {
          "output_type": "stream",
          "text": [
            "/usr/local/lib/python3.6/dist-packages/sklearn/utils/validation.py:760: DataConversionWarning: A column-vector y was passed when a 1d array was expected. Please change the shape of y to (n_samples, ), for example using ravel().\n",
            "  y = column_or_1d(y, warn=True)\n"
          ],
          "name": "stderr"
        },
        {
          "output_type": "stream",
          "text": [
            "DecisionTreeClassifier(ccp_alpha=0.0, class_weight=None, criterion='gini',\n",
            "                       max_depth=None, max_features=None, max_leaf_nodes=None,\n",
            "                       min_impurity_decrease=0.0, min_impurity_split=None,\n",
            "                       min_samples_leaf=1, min_samples_split=2,\n",
            "                       min_weight_fraction_leaf=0.0, presort='deprecated',\n",
            "                       random_state=None, splitter='best')\n",
            "Classification report:\n",
            "               precision    recall  f1-score   support\n",
            "\n",
            "           0       1.00      1.00      1.00     85296\n",
            "           1       0.57      0.71      0.63       147\n",
            "\n",
            "    accuracy                           1.00     85443\n",
            "   macro avg       0.78      0.85      0.81     85443\n",
            "weighted avg       1.00      1.00      1.00     85443\n",
            "\n",
            "------------------------------\n",
            "Confusion matrix:\n",
            " [[85216    80]\n",
            " [   43   104]]\n",
            "ROC AUC Score: 0.8532725414307534\n",
            "------------------------------\n"
          ],
          "name": "stdout"
        },
        {
          "output_type": "display_data",
          "data": {
            "image/png": "[encoded data removed]",
            "text/plain": [
              "<Figure size 432x288 with 1 Axes>"
            ]
          },
          "metadata": {
            "tags": [],
            "needs_background": "light"
          }
        },
        {
          "output_type": "stream",
          "text": [
            "/usr/local/lib/python3.6/dist-packages/sklearn/utils/validation.py:760: DataConversionWarning: A column-vector y was passed when a 1d array was expected. Please change the shape of y to (n_samples, ), for example using ravel().\n",
            "  y = column_or_1d(y, warn=True)\n"
          ],
          "name": "stderr"
        },
        {
          "output_type": "stream",
          "text": [
            "RandomForestClassifier(bootstrap=True, ccp_alpha=0.0, class_weight=None,\n",
            "                       criterion='gini', max_depth=None, max_features='auto',\n",
            "                       max_leaf_nodes=None, max_samples=None,\n",
            "                       min_impurity_decrease=0.0, min_impurity_split=None,\n",
            "                       min_samples_leaf=1, min_samples_split=2,\n",
            "                       min_weight_fraction_leaf=0.0, n_estimators=100,\n",
            "                       n_jobs=None, oob_score=False, random_state=None,\n",
            "                       verbose=0, warm_start=False)\n",
            "Classification report:\n",
            "               precision    recall  f1-score   support\n",
            "\n",
            "           0       1.00      1.00      1.00     85296\n",
            "           1       0.90      0.80      0.84       147\n",
            "\n",
            "    accuracy                           1.00     85443\n",
            "   macro avg       0.95      0.90      0.92     85443\n",
            "weighted avg       1.00      1.00      1.00     85443\n",
            "\n",
            "------------------------------\n",
            "Confusion matrix:\n",
            " [[85283    13]\n",
            " [   30   117]]\n",
            "ROC AUC Score: 0.9490917263547699\n",
            "------------------------------\n"
          ],
          "name": "stdout"
        },
        {
          "output_type": "display_data",
          "data": {
            "image/png": "[encoded data removed]",
            "text/plain": [
              "<Figure size 432x288 with 1 Axes>"
            ]
          },
          "metadata": {
            "tags": [],
            "needs_background": "light"
          }
        }
      ]
    },
    {
      "cell_type": "markdown",
      "metadata": {
        "id": "yzmTreQq39Cn"
      },
      "source": [
        "# **Summary Result of three models:**\r\n",
        "Logistic regression:  129 out of 147 fraud cases in the test dataset was detected\r\n",
        "\r\n",
        "DecisionTree Classifier :  104 out of 147 fraud cases in the test dataset was detected\r\n",
        "\r\n",
        "RandomForest Classifier: 116 out of 147 fraud cases in the test dataset was detected\r\n"
      ]
    },
    {
      "cell_type": "markdown",
      "metadata": {
        "id": "hqm2QYaxhhoF"
      },
      "source": [
        "# **`TensorFlow Keras Model`**\r\n",
        "\r\n",
        "In this section we will use deep learning model to classify the fraud cases and compare with our previouse three models results\r\n",
        "\r\n"
      ]
    },
    {
      "cell_type": "markdown",
      "metadata": {
        "id": "jAvsU0PQdYwt"
      },
      "source": [
        "# Prepare the data set"
      ]
    },
    {
      "cell_type": "code",
      "metadata": {
        "id": "w0AadqZOdNU1"
      },
      "source": [
        "features=X\r\n",
        "targets=np.array(y, dtype=\"uint8\")\r\n",
        "print(features)\r\n",
        "print(targets)"
      ],
      "execution_count": null,
      "outputs": []
    },
    {
      "cell_type": "markdown",
      "metadata": {
        "id": "kYhYK1sIddQ8"
      },
      "source": [
        "# Prepare a Validation data set"
      ]
    },
    {
      "cell_type": "code",
      "metadata": {
        "id": "AKOAJa0ndh3S",
        "colab": {
          "base_uri": "https://localhost:8080/"
        },
        "outputId": "ffed3c05-222f-4865-e375-ee6efef91fa9"
      },
      "source": [
        "num_val_samples = int(len(features) * 0.2)\r\n",
        "train_features = features[:-num_val_samples]\r\n",
        "train_targets = targets[:-num_val_samples]\r\n",
        "val_features = features[-num_val_samples:]\r\n",
        "val_targets = targets[-num_val_samples:]\r\n",
        "\r\n",
        "print(\"Number of training samples:\", len(train_features))\r\n",
        "print(\"Number of validation samples:\", len(val_features))"
      ],
      "execution_count": 21,
      "outputs": [
        {
          "output_type": "stream",
          "text": [
            "Number of training samples: 227846\n",
            "Number of validation samples: 56961\n"
          ],
          "name": "stdout"
        }
      ]
    },
    {
      "cell_type": "markdown",
      "metadata": {
        "id": "L0Q9sFOidrsN"
      },
      "source": [
        "# Analyze class imbalance in the targets"
      ]
    },
    {
      "cell_type": "code",
      "metadata": {
        "id": "ptC38bDHdqx3",
        "colab": {
          "base_uri": "https://localhost:8080/"
        },
        "outputId": "4a9258b3-e122-4516-f023-ef0bb1754fa4"
      },
      "source": [
        "counts = np.bincount(train_targets[:, 0])\r\n",
        "print(\r\n",
        "    \"Number of positive samples in training data: {} ({:.2f}% of total)\".format(\r\n",
        "        counts[1], 100 * float(counts[1]) / len(train_targets)\r\n",
        "    )\r\n",
        ")\r\n",
        "\r\n",
        "weight_for_0 = 1.0 / counts[0]\r\n",
        "weight_for_1 = 1.0 / counts[1]\r\n"
      ],
      "execution_count": 22,
      "outputs": [
        {
          "output_type": "stream",
          "text": [
            "Number of positive samples in training data: 417 (0.18% of total)\n"
          ],
          "name": "stdout"
        }
      ]
    },
    {
      "cell_type": "markdown",
      "metadata": {
        "id": "6ny1D0aVhkOG"
      },
      "source": [
        "# Normalize the data using training set statistics"
      ]
    },
    {
      "cell_type": "code",
      "metadata": {
        "id": "3LutpluEhnWo"
      },
      "source": [
        "mean = np.mean(train_features, axis=0)\r\n",
        "train_features -= mean\r\n",
        "val_features -= mean\r\n",
        "std = np.std(train_features, axis=0)\r\n",
        "train_features /= std\r\n",
        "val_features /= std"
      ],
      "execution_count": 23,
      "outputs": []
    },
    {
      "cell_type": "markdown",
      "metadata": {
        "id": "1FmQt8edh9O8"
      },
      "source": [
        "# Build a binary classification model"
      ]
    },
    {
      "cell_type": "code",
      "metadata": {
        "id": "hAHnQJsZrh6K",
        "colab": {
          "base_uri": "https://localhost:8080/"
        },
        "outputId": "9080efff-15c4-4504-99da-3373e89eda02"
      },
      "source": [
        "from tensorflow import keras\r\n",
        "\r\n",
        "model = keras.Sequential(\r\n",
        "    [\r\n",
        "        keras.layers.Dense(\r\n",
        "            256, activation=\"relu\", input_shape=(train_features.shape[-1],)\r\n",
        "        ),\r\n",
        "        keras.layers.Dense(256, activation=\"relu\"),\r\n",
        "        keras.layers.Dropout(0.3),\r\n",
        "        keras.layers.Dense(256, activation=\"relu\"),\r\n",
        "        keras.layers.Dropout(0.3),\r\n",
        "        keras.layers.Dense(1, activation=\"sigmoid\"),\r\n",
        "    ]\r\n",
        ")\r\n",
        "model.summary()"
      ],
      "execution_count": 24,
      "outputs": [
        {
          "output_type": "stream",
          "text": [
            "Model: \"sequential\"\n",
            "_________________________________________________________________\n",
            "Layer (type)                 Output Shape              Param #   \n",
            "=================================================================\n",
            "dense (Dense)                (None, 256)               7936      \n",
            "_________________________________________________________________\n",
            "dense_1 (Dense)              (None, 256)               65792     \n",
            "_________________________________________________________________\n",
            "dropout (Dropout)            (None, 256)               0         \n",
            "_________________________________________________________________\n",
            "dense_2 (Dense)              (None, 256)               65792     \n",
            "_________________________________________________________________\n",
            "dropout_1 (Dropout)          (None, 256)               0         \n",
            "_________________________________________________________________\n",
            "dense_3 (Dense)              (None, 1)                 257       \n",
            "=================================================================\n",
            "Total params: 139,777\n",
            "Trainable params: 139,777\n",
            "Non-trainable params: 0\n",
            "_________________________________________________________________\n"
          ],
          "name": "stdout"
        }
      ]
    },
    {
      "cell_type": "markdown",
      "metadata": {
        "id": "0DWWNoPMtDgR"
      },
      "source": [
        "# Train the model with class_weight argument"
      ]
    },
    {
      "cell_type": "code",
      "metadata": {
        "id": "V8KMBIGvS4nv"
      },
      "source": [
        "from sklearn.metrics import accuracy_score"
      ],
      "execution_count": 25,
      "outputs": []
    },
    {
      "cell_type": "code",
      "metadata": {
        "id": "EIumo9DGs5Cg"
      },
      "source": [
        "metrics = [\r\n",
        "    keras.metrics.FalseNegatives(name=\"fn\"),\r\n",
        "    keras.metrics.FalsePositives(name=\"fp\"),\r\n",
        "    keras.metrics.TrueNegatives(name=\"tn\"),\r\n",
        "    keras.metrics.TruePositives(name=\"tp\"),\r\n",
        "    keras.metrics.Precision(name=\"precision\"),\r\n",
        "    keras.metrics.Recall(name=\"recall\"),\r\n",
        "    keras.metrics.Recall(name=\"accuracy\")\r\n",
        "]\r\n",
        "\r\n",
        "model.compile(\r\n",
        "    optimizer=keras.optimizers.Adam(1e-2), loss=\"binary_crossentropy\", metrics=metrics\r\n",
        ")\r\n",
        "\r\n",
        "callbacks = [keras.callbacks.ModelCheckpoint(\"fraud_model_at_epoch_{epoch}.h5\")]\r\n",
        "class_weight = {0: weight_for_0, 1: weight_for_1}\r\n",
        "\r\n",
        "train_history=model.fit(\r\n",
        "    train_features,\r\n",
        "    train_targets,\r\n",
        "    batch_size=2048,\r\n",
        "    epochs=30,\r\n",
        "    verbose=2,\r\n",
        "    callbacks=callbacks,\r\n",
        "    validation_data=(val_features, val_targets),\r\n",
        "    class_weight=class_weight,\r\n",
        ")"
      ],
      "execution_count": null,
      "outputs": []
    },
    {
      "cell_type": "code",
      "metadata": {
        "id": "DFUU4fRJmQtM",
        "colab": {
          "base_uri": "https://localhost:8080/"
        },
        "outputId": "f11c05b9-46e0-41c9-e8ec-b558cd3c7df3"
      },
      "source": [
        "prediction = model.predict_classes(val_features)\r\n"
      ],
      "execution_count": 27,
      "outputs": [
        {
          "output_type": "stream",
          "text": [
            "/usr/local/lib/python3.6/dist-packages/tensorflow/python/keras/engine/sequential.py:450: UserWarning: `model.predict_classes()` is deprecated and will be removed after 2021-01-01. Please use instead:* `np.argmax(model.predict(x), axis=-1)`,   if your model does multi-class classification   (e.g. if it uses a `softmax` last-layer activation).* `(model.predict(x) > 0.5).astype(\"int32\")`,   if your model does binary classification   (e.g. if it uses a `sigmoid` last-layer activation).\n",
            "  warnings.warn('`model.predict_classes()` is deprecated and '\n"
          ],
          "name": "stderr"
        }
      ]
    },
    {
      "cell_type": "code",
      "metadata": {
        "id": "-gvargb5mn_l"
      },
      "source": [
        "val_targets =  np.array(val_targets, dtype=\"float32\").ravel()\r\n",
        "df_ans = pd.DataFrame({'Real Class' :val_targets})\r\n",
        "df_ans['Prediction'] = prediction"
      ],
      "execution_count": 31,
      "outputs": []
    },
    {
      "cell_type": "code",
      "metadata": {
        "id": "U9em6KL8qG4M"
      },
      "source": [
        "df_ans[ df_ans['Real Class'] != df_ans['Prediction'] ]"
      ],
      "execution_count": null,
      "outputs": []
    },
    {
      "cell_type": "code",
      "metadata": {
        "colab": {
          "base_uri": "https://localhost:8080/"
        },
        "id": "sdarRJfkfpy9",
        "outputId": "d0bf5e63-3d43-47fc-c24c-13cbc311af09"
      },
      "source": [
        "Truepositive=df_ans[(df_ans['Real Class']!=0) & (df_ans['Prediction']!=0) ] \r\n",
        "Truepositive.shape"
      ],
      "execution_count": 40,
      "outputs": [
        {
          "output_type": "execute_result",
          "data": {
            "text/plain": [
              "(64, 2)"
            ]
          },
          "metadata": {
            "tags": []
          },
          "execution_count": 40
        }
      ]
    },
    {
      "cell_type": "code",
      "metadata": {
        "colab": {
          "base_uri": "https://localhost:8080/"
        },
        "id": "eamSlFC4hYLS",
        "outputId": "2146a1ad-1427-4504-83d1-51c7502149e8"
      },
      "source": [
        "Falsenegative=df_ans[(df_ans['Real Class']==1) & (df_ans['Prediction']==0) ] \r\n",
        "Falsenegative.shape"
      ],
      "execution_count": 41,
      "outputs": [
        {
          "output_type": "execute_result",
          "data": {
            "text/plain": [
              "(11, 2)"
            ]
          },
          "metadata": {
            "tags": []
          },
          "execution_count": 41
        }
      ]
    },
    {
      "cell_type": "markdown",
      "metadata": {
        "id": "4zjhXIL_MI4N"
      },
      "source": [
        "At the end of training, out of 56,961 validation transactions, we are:\r\n",
        "\r\n",
        "1.   correctly identifying 64 of them as fraudulent\r\n",
        "2.   missing 11 fraudulent transactions\r\n",
        "3.   At the cost of incorrectly flagging 409 legitimate transactions\r\n",
        "\r\n",
        " \r\n",
        "In the real world, one would put an even higher weight on class 1, so as to reflect that False Negatives are more costly than False Positives.\r\n",
        "\r\n",
        "Next time your credit card gets declined in an online purchase -- this is why."
      ]
    }
  ]
}